{
  "nbformat": 4,
  "nbformat_minor": 0,
  "metadata": {
    "colab": {
      "name": "HW6_Chavez_Joseph",
      "provenance": [],
      "collapsed_sections": [],
      "toc_visible": true,
      "include_colab_link": true
    },
    "kernelspec": {
      "name": "python3",
      "display_name": "Python 3"
    },
    "language_info": {
      "name": "python"
    }
  },
  "cells": [
    {
      "cell_type": "markdown",
      "metadata": {
        "id": "view-in-github",
        "colab_type": "text"
      },
      "source": [
        "<a href=\"https://colab.research.google.com/github/chav120/Decision-Trees/blob/main/HW6_Chavez_Joseph.ipynb\" target=\"_parent\"><img src=\"https://colab.research.google.com/assets/colab-badge.svg\" alt=\"Open In Colab\"/></a>"
      ]
    },
    {
      "cell_type": "markdown",
      "metadata": {
        "id": "gJL_nLkdHYDy"
      },
      "source": [
        "# Homework 6 (30 marks)\n",
        "Create a copy of the notebook to start answering the questions. Name your notebook in the format HW6_lastname_firstname.ipynb to facilitate the grading process.\n",
        "\n",
        "Answer all the questions, test your code to ensure there are no errors and the results are as expected. Once you have answered all the questions, save the final copy, then go to File-> click on Download.ipynb. Once the local copy has been downloaded, submit your file on Blackboard under the corresponding assignment section. Also provide us a link to your notebook during submission.\n",
        "\n",
        "NOTE: Please give the TAs the permission to access your notebooks through the links you have provided during submission.\n",
        "\n",
        "The due date of this homework is 04/09/2021 (Friday).\n",
        "\n",
        "Please ensure you follow all the steps mentioned in the homework.\n",
        "\n",
        "You can submit your solutions any number of times until the deadline.\n",
        "\n",
        "The datasets used in this homework can be found in the google drive link below -\n",
        "\n",
        "https://drive.google.com/drive/folders/1NxCh4X7u7wVo5aHojxjLNs9wC7B7zJhb?usp=sharing\n",
        "\n",
        "Follow the necessary steps to import data to test your code. You can use any method to read your data in the notebook. We will not be grading the methods you use. We will only grade the code from the point where you read the dataset into a pandas dataframe - (pd.read_csv('file_name'))"
      ]
    },
    {
      "cell_type": "markdown",
      "metadata": {
        "id": "Zp3D8wIOH4bR"
      },
      "source": [
        "Import all the libraries you require in the cell below.\n",
        "\n"
      ]
    },
    {
      "cell_type": "code",
      "metadata": {
        "id": "72EyvzqAH6G_"
      },
      "source": [
        "import pandas as pd\n",
        "import numpy as np\n",
        "from sklearn.model_selection import train_test_split\n",
        "from sklearn.tree import DecisionTreeClassifier\n",
        "from sklearn import metrics\n",
        "import matplotlib.pyplot as plt\n",
        "from sklearn import tree\n",
        "from sklearn.metrics import accuracy_score"
      ],
      "execution_count": null,
      "outputs": []
    },
    {
      "cell_type": "markdown",
      "metadata": {
        "id": "TxCnZ-n3H0Wd"
      },
      "source": [
        "### 1. Build a classification model that predicts the edibility of mushrooms (class variable in the dataset). You have been provide with a dataset as a mushrooms.csv file. \n",
        "Here is a description of the attributes\n"
      ]
    },
    {
      "cell_type": "markdown",
      "metadata": {
        "id": "2WX2OwgOIHMd"
      },
      "source": [
        "Attribute description:\n",
        "1. cap-shape: bell=b,conical=c,convex=x,flat=f, knobbed=k,sunken=s \n",
        "2. cap-surface: fibrous=f,grooves=g,scaly=y,smooth=s \n",
        "3. cap-color: brown=n,buff=b,cinnamon=c,gray=g,green=r, pink=p,purple=u,red=e,white=w,yellow=y \n",
        "4. bruises?: bruises=t,no=f \n",
        "5. odor: almond=a,anise=l,creosote=c,fishy=y,foul=f, musty=m,none=n,pungent=p,spicy=s \n",
        "6. gill-attachment: attached=a,descending=d,free=f,notched=n \n",
        "7. gill-spacing: close=c,crowded=w,distant=d \n",
        "8. gill-size: broad=b,narrow=n \n",
        "9. gill-color: black=k,brown=n,buff=b,chocolate=h,gray=g, green=r,orange=o,pink=p,purple=u,red=e, white=w,yellow=y \n",
        "10. stalk-shape: enlarging=e,tapering=t \n",
        "11. stalk-root: bulbous=b,club=c,cup=u,equal=e, rhizomorphs=z,rooted=r,missing=? \n",
        "12. stalk-surface-above-ring: fibrous=f,scaly=y,silky=k,smooth=s \n",
        "13. stalk-surface-below-ring: fibrous=f,scaly=y,silky=k,smooth=s \n",
        "14. stalk-color-above-ring: brown=n,buff=b,cinnamon=c,gray=g,orange=o, pink=p,red=e,white=w,yellow=y \n",
        "15. stalk-color-below-ring: brown=n,buff=b,cinnamon=c,gray=g,orange=o, pink=p,red=e,white=w,yellow=y \n",
        "16. veil-type: partial=p,universal=u \n",
        "17. veil-color: brown=n,orange=o,white=w,yellow=y \n",
        "18. ring-number: none=n,one=o,two=t \n",
        "19. ring-type: cobwebby=c,evanescent=e,flaring=f,large=l, none=n,pendant=p,sheathing=s,zone=z \n",
        "20. spore-print-color: black=k,brown=n,buff=b,chocolate=h,green=r, orange=o,purple=u,white=w,yellow=y \n",
        "21. population: abundant=a,clustered=c,numerous=n, scattered=s,several=v,solitary=y \n",
        "22. habitat: grasses=g,leaves=l,meadows=m,paths=p, urban=u,waste=w,woods=d\n",
        "23. class: p = poisonous, e=edible\n"
      ]
    },
    {
      "cell_type": "markdown",
      "metadata": {
        "id": "LJeXdQymILSv"
      },
      "source": [
        "1. Build a classification tree. Random_state =2020. Training partition 0.7. stratify = y, max_depth = 6, use Entropy (8 marks)\n",
        "\n",
        "A. Read the dataset, explore it and determine what is the dependent variable (1 mark)\n",
        "\n",
        "B. Store the feature and target variable. (2 marks)\n",
        "\n",
        "C. Convert all categorical variables into dummy variables (1 mark)\n",
        "\n",
        "D. Partition the data into training and test sets (70/30) (1 mark)\n",
        "\n",
        "E. Fit the training data to a classification tree. (3 marks)"
      ]
    },
    {
      "cell_type": "code",
      "metadata": {
        "id": "Eme32RA0IKoR",
        "colab": {
          "base_uri": "https://localhost:8080/"
        },
        "outputId": "9c4671eb-4162-4698-9819-1047f2a595c6"
      },
      "source": [
        "# 1\n",
        "mushroomColumns = [\"cap-shape\", \"cap-surface\", \"cap-color\", \"bruises\", \"odor\", \"gill-attachment\", \"gill-spacing\", \"gill-size\", \"gill-color\", \"stalk-shape\", \"stalk-root\", \"stalk-surface-above-ring\", \"stalk-surface-below-ring\", \"stalk-color-above-ring\", \"stalk-color-below-ring\", \"veil-type\", \"veil-color\", \"ring-number\", \"ring-type\", \"spore-print-color\", \"population\", \"habitat\"]\n",
        "\n",
        "# A\n",
        "frame = pd.read_csv(\"mushrooms.csv\")\n",
        "print(frame.head())\n",
        "print(\"\")\n",
        "print(frame.shape)\n",
        "print(\"\")\n",
        "print(frame.columns.values)\n",
        "print(\"\")\n",
        "print(frame.isnull().sum())\n",
        "print(\"\")\n",
        "print(\"The target variable is 'class.'\")\n",
        "print(\"\")\n",
        "\n",
        "# C\n",
        "frame2 = pd.get_dummies(frame, columns=mushroomColumns)\n",
        "print(frame2.head())\n",
        "\n",
        "# B\n",
        "X = frame2.iloc[:, 1:]\n",
        "y = frame2.iloc[:, 0]\n",
        "\n",
        "# D\n",
        "X_train, X_test, y_train, y_test = train_test_split(X, y, test_size=0.3, random_state=2020, stratify=y)\n",
        "\n",
        "# E\n",
        "dt = DecisionTreeClassifier(criterion='entropy', random_state=2020)\n",
        "dt.fit(X_train, y_train)\n",
        "\n"
      ],
      "execution_count": null,
      "outputs": [
        {
          "output_type": "stream",
          "text": [
            "  class cap-shape cap-surface cap-color bruises odor gill-attachment  \\\n",
            "0     p         x           s         n       t    p               f   \n",
            "1     e         x           s         y       t    a               f   \n",
            "2     e         b           s         w       t    l               f   \n",
            "3     p         x           y         w       t    p               f   \n",
            "4     e         x           s         g       f    n               f   \n",
            "\n",
            "  gill-spacing gill-size gill-color stalk-shape stalk-root  \\\n",
            "0            c         n          k           e          e   \n",
            "1            c         b          k           e          c   \n",
            "2            c         b          n           e          c   \n",
            "3            c         n          n           e          e   \n",
            "4            w         b          k           t          e   \n",
            "\n",
            "  stalk-surface-above-ring stalk-surface-below-ring stalk-color-above-ring  \\\n",
            "0                        s                        s                      w   \n",
            "1                        s                        s                      w   \n",
            "2                        s                        s                      w   \n",
            "3                        s                        s                      w   \n",
            "4                        s                        s                      w   \n",
            "\n",
            "  stalk-color-below-ring veil-type veil-color ring-number ring-type  \\\n",
            "0                      w         p          w           o         p   \n",
            "1                      w         p          w           o         p   \n",
            "2                      w         p          w           o         p   \n",
            "3                      w         p          w           o         p   \n",
            "4                      w         p          w           o         e   \n",
            "\n",
            "  spore-print-color population habitat  \n",
            "0                 k          s       u  \n",
            "1                 n          n       g  \n",
            "2                 n          n       m  \n",
            "3                 k          s       u  \n",
            "4                 n          a       g  \n",
            "\n",
            "(8124, 23)\n",
            "\n",
            "['class' 'cap-shape' 'cap-surface' 'cap-color' 'bruises' 'odor'\n",
            " 'gill-attachment' 'gill-spacing' 'gill-size' 'gill-color' 'stalk-shape'\n",
            " 'stalk-root' 'stalk-surface-above-ring' 'stalk-surface-below-ring'\n",
            " 'stalk-color-above-ring' 'stalk-color-below-ring' 'veil-type'\n",
            " 'veil-color' 'ring-number' 'ring-type' 'spore-print-color' 'population'\n",
            " 'habitat']\n",
            "\n",
            "class                       0\n",
            "cap-shape                   0\n",
            "cap-surface                 0\n",
            "cap-color                   0\n",
            "bruises                     0\n",
            "odor                        0\n",
            "gill-attachment             0\n",
            "gill-spacing                0\n",
            "gill-size                   0\n",
            "gill-color                  0\n",
            "stalk-shape                 0\n",
            "stalk-root                  0\n",
            "stalk-surface-above-ring    0\n",
            "stalk-surface-below-ring    0\n",
            "stalk-color-above-ring      0\n",
            "stalk-color-below-ring      0\n",
            "veil-type                   0\n",
            "veil-color                  0\n",
            "ring-number                 0\n",
            "ring-type                   0\n",
            "spore-print-color           0\n",
            "population                  0\n",
            "habitat                     0\n",
            "dtype: int64\n",
            "\n",
            "The target variable is 'class.'\n",
            "\n",
            "  class  cap-shape_b  cap-shape_c  cap-shape_f  cap-shape_k  cap-shape_s  \\\n",
            "0     p            0            0            0            0            0   \n",
            "1     e            0            0            0            0            0   \n",
            "2     e            1            0            0            0            0   \n",
            "3     p            0            0            0            0            0   \n",
            "4     e            0            0            0            0            0   \n",
            "\n",
            "   cap-shape_x  cap-surface_f  cap-surface_g  cap-surface_s  cap-surface_y  \\\n",
            "0            1              0              0              1              0   \n",
            "1            1              0              0              1              0   \n",
            "2            0              0              0              1              0   \n",
            "3            1              0              0              0              1   \n",
            "4            1              0              0              1              0   \n",
            "\n",
            "   cap-color_b  cap-color_c  cap-color_e  cap-color_g  cap-color_n  \\\n",
            "0            0            0            0            0            1   \n",
            "1            0            0            0            0            0   \n",
            "2            0            0            0            0            0   \n",
            "3            0            0            0            0            0   \n",
            "4            0            0            0            1            0   \n",
            "\n",
            "   cap-color_p  cap-color_r  cap-color_u  cap-color_w  cap-color_y  bruises_f  \\\n",
            "0            0            0            0            0            0          0   \n",
            "1            0            0            0            0            1          0   \n",
            "2            0            0            0            1            0          0   \n",
            "3            0            0            0            1            0          0   \n",
            "4            0            0            0            0            0          1   \n",
            "\n",
            "   bruises_t  odor_a  odor_c  odor_f  odor_l  odor_m  odor_n  odor_p  odor_s  \\\n",
            "0          1       0       0       0       0       0       0       1       0   \n",
            "1          1       1       0       0       0       0       0       0       0   \n",
            "2          1       0       0       0       1       0       0       0       0   \n",
            "3          1       0       0       0       0       0       0       1       0   \n",
            "4          0       0       0       0       0       0       1       0       0   \n",
            "\n",
            "   odor_y  gill-attachment_a  gill-attachment_f  gill-spacing_c  \\\n",
            "0       0                  0                  1               1   \n",
            "1       0                  0                  1               1   \n",
            "2       0                  0                  1               1   \n",
            "3       0                  0                  1               1   \n",
            "4       0                  0                  1               0   \n",
            "\n",
            "   gill-spacing_w  gill-size_b  gill-size_n  gill-color_b  gill-color_e  \\\n",
            "0               0            0            1             0             0   \n",
            "1               0            1            0             0             0   \n",
            "2               0            1            0             0             0   \n",
            "3               0            0            1             0             0   \n",
            "4               1            1            0             0             0   \n",
            "\n",
            "   gill-color_g  gill-color_h  gill-color_k  gill-color_n  gill-color_o  \\\n",
            "0             0             0             1             0             0   \n",
            "1             0             0             1             0             0   \n",
            "2             0             0             0             1             0   \n",
            "3             0             0             0             1             0   \n",
            "4             0             0             1             0             0   \n",
            "\n",
            "   gill-color_p  gill-color_r  gill-color_u  gill-color_w  gill-color_y  \\\n",
            "0             0             0             0             0             0   \n",
            "1             0             0             0             0             0   \n",
            "2             0             0             0             0             0   \n",
            "3             0             0             0             0             0   \n",
            "4             0             0             0             0             0   \n",
            "\n",
            "   stalk-shape_e  stalk-shape_t  stalk-root_?  stalk-root_b  stalk-root_c  \\\n",
            "0              1              0             0             0             0   \n",
            "1              1              0             0             0             1   \n",
            "2              1              0             0             0             1   \n",
            "3              1              0             0             0             0   \n",
            "4              0              1             0             0             0   \n",
            "\n",
            "   stalk-root_e  stalk-root_r  stalk-surface-above-ring_f  \\\n",
            "0             1             0                           0   \n",
            "1             0             0                           0   \n",
            "2             0             0                           0   \n",
            "3             1             0                           0   \n",
            "4             1             0                           0   \n",
            "\n",
            "   stalk-surface-above-ring_k  stalk-surface-above-ring_s  \\\n",
            "0                           0                           1   \n",
            "1                           0                           1   \n",
            "2                           0                           1   \n",
            "3                           0                           1   \n",
            "4                           0                           1   \n",
            "\n",
            "   stalk-surface-above-ring_y  stalk-surface-below-ring_f  \\\n",
            "0                           0                           0   \n",
            "1                           0                           0   \n",
            "2                           0                           0   \n",
            "3                           0                           0   \n",
            "4                           0                           0   \n",
            "\n",
            "   stalk-surface-below-ring_k  stalk-surface-below-ring_s  \\\n",
            "0                           0                           1   \n",
            "1                           0                           1   \n",
            "2                           0                           1   \n",
            "3                           0                           1   \n",
            "4                           0                           1   \n",
            "\n",
            "   stalk-surface-below-ring_y  stalk-color-above-ring_b  \\\n",
            "0                           0                         0   \n",
            "1                           0                         0   \n",
            "2                           0                         0   \n",
            "3                           0                         0   \n",
            "4                           0                         0   \n",
            "\n",
            "   stalk-color-above-ring_c  stalk-color-above-ring_e  \\\n",
            "0                         0                         0   \n",
            "1                         0                         0   \n",
            "2                         0                         0   \n",
            "3                         0                         0   \n",
            "4                         0                         0   \n",
            "\n",
            "   stalk-color-above-ring_g  stalk-color-above-ring_n  \\\n",
            "0                         0                         0   \n",
            "1                         0                         0   \n",
            "2                         0                         0   \n",
            "3                         0                         0   \n",
            "4                         0                         0   \n",
            "\n",
            "   stalk-color-above-ring_o  stalk-color-above-ring_p  \\\n",
            "0                         0                         0   \n",
            "1                         0                         0   \n",
            "2                         0                         0   \n",
            "3                         0                         0   \n",
            "4                         0                         0   \n",
            "\n",
            "   stalk-color-above-ring_w  stalk-color-above-ring_y  \\\n",
            "0                         1                         0   \n",
            "1                         1                         0   \n",
            "2                         1                         0   \n",
            "3                         1                         0   \n",
            "4                         1                         0   \n",
            "\n",
            "   stalk-color-below-ring_b  stalk-color-below-ring_c  \\\n",
            "0                         0                         0   \n",
            "1                         0                         0   \n",
            "2                         0                         0   \n",
            "3                         0                         0   \n",
            "4                         0                         0   \n",
            "\n",
            "   stalk-color-below-ring_e  stalk-color-below-ring_g  \\\n",
            "0                         0                         0   \n",
            "1                         0                         0   \n",
            "2                         0                         0   \n",
            "3                         0                         0   \n",
            "4                         0                         0   \n",
            "\n",
            "   stalk-color-below-ring_n  stalk-color-below-ring_o  \\\n",
            "0                         0                         0   \n",
            "1                         0                         0   \n",
            "2                         0                         0   \n",
            "3                         0                         0   \n",
            "4                         0                         0   \n",
            "\n",
            "   stalk-color-below-ring_p  stalk-color-below-ring_w  \\\n",
            "0                         0                         1   \n",
            "1                         0                         1   \n",
            "2                         0                         1   \n",
            "3                         0                         1   \n",
            "4                         0                         1   \n",
            "\n",
            "   stalk-color-below-ring_y  veil-type_p  veil-color_n  veil-color_o  \\\n",
            "0                         0            1             0             0   \n",
            "1                         0            1             0             0   \n",
            "2                         0            1             0             0   \n",
            "3                         0            1             0             0   \n",
            "4                         0            1             0             0   \n",
            "\n",
            "   veil-color_w  veil-color_y  ring-number_n  ring-number_o  ring-number_t  \\\n",
            "0             1             0              0              1              0   \n",
            "1             1             0              0              1              0   \n",
            "2             1             0              0              1              0   \n",
            "3             1             0              0              1              0   \n",
            "4             1             0              0              1              0   \n",
            "\n",
            "   ring-type_e  ring-type_f  ring-type_l  ring-type_n  ring-type_p  \\\n",
            "0            0            0            0            0            1   \n",
            "1            0            0            0            0            1   \n",
            "2            0            0            0            0            1   \n",
            "3            0            0            0            0            1   \n",
            "4            1            0            0            0            0   \n",
            "\n",
            "   spore-print-color_b  spore-print-color_h  spore-print-color_k  \\\n",
            "0                    0                    0                    1   \n",
            "1                    0                    0                    0   \n",
            "2                    0                    0                    0   \n",
            "3                    0                    0                    1   \n",
            "4                    0                    0                    0   \n",
            "\n",
            "   spore-print-color_n  spore-print-color_o  spore-print-color_r  \\\n",
            "0                    0                    0                    0   \n",
            "1                    1                    0                    0   \n",
            "2                    1                    0                    0   \n",
            "3                    0                    0                    0   \n",
            "4                    1                    0                    0   \n",
            "\n",
            "   spore-print-color_u  spore-print-color_w  spore-print-color_y  \\\n",
            "0                    0                    0                    0   \n",
            "1                    0                    0                    0   \n",
            "2                    0                    0                    0   \n",
            "3                    0                    0                    0   \n",
            "4                    0                    0                    0   \n",
            "\n",
            "   population_a  population_c  population_n  population_s  population_v  \\\n",
            "0             0             0             0             1             0   \n",
            "1             0             0             1             0             0   \n",
            "2             0             0             1             0             0   \n",
            "3             0             0             0             1             0   \n",
            "4             1             0             0             0             0   \n",
            "\n",
            "   population_y  habitat_d  habitat_g  habitat_l  habitat_m  habitat_p  \\\n",
            "0             0          0          0          0          0          0   \n",
            "1             0          0          1          0          0          0   \n",
            "2             0          0          0          0          1          0   \n",
            "3             0          0          0          0          0          0   \n",
            "4             0          0          1          0          0          0   \n",
            "\n",
            "   habitat_u  habitat_w  \n",
            "0          1          0  \n",
            "1          0          0  \n",
            "2          0          0  \n",
            "3          1          0  \n",
            "4          0          0  \n"
          ],
          "name": "stdout"
        },
        {
          "output_type": "execute_result",
          "data": {
            "text/plain": [
              "DecisionTreeClassifier(ccp_alpha=0.0, class_weight=None, criterion='entropy',\n",
              "                       max_depth=None, max_features=None, max_leaf_nodes=None,\n",
              "                       min_impurity_decrease=0.0, min_impurity_split=None,\n",
              "                       min_samples_leaf=1, min_samples_split=2,\n",
              "                       min_weight_fraction_leaf=0.0, presort='deprecated',\n",
              "                       random_state=2020, splitter='best')"
            ]
          },
          "metadata": {
            "tags": []
          },
          "execution_count": 257
        }
      ]
    },
    {
      "cell_type": "markdown",
      "metadata": {
        "id": "YB-2YFsOIUah"
      },
      "source": [
        "2. Print the confusion matrix. \n",
        "Also visualize the confusion matrix using plot_confusion_matrix from sklearn.metrics (3 marks)\n",
        "\n"
      ]
    },
    {
      "cell_type": "code",
      "metadata": {
        "id": "VFwyLKzcRjyY",
        "colab": {
          "base_uri": "https://localhost:8080/",
          "height": 313
        },
        "outputId": "17f69ccb-327b-4f15-b89c-14e3a504ca98"
      },
      "source": [
        "y_pred = dt.predict(X_test)\n",
        "cf = metrics.confusion_matrix(y_test, y_pred)\n",
        "print(cf)\n",
        "metrics.plot_confusion_matrix(dt, X_test, y_test)\n",
        "plt.show()\n"
      ],
      "execution_count": null,
      "outputs": [
        {
          "output_type": "stream",
          "text": [
            "[[1263    0]\n",
            " [   3 1172]]\n"
          ],
          "name": "stdout"
        },
        {
          "output_type": "display_data",
          "data": {
            "image/png": "[encoded data removed]",
            "text/plain": [
              "<Figure size 432x288 with 2 Axes>"
            ]
          },
          "metadata": {
            "tags": [],
            "needs_background": "light"
          }
        }
      ]
    },
    {
      "cell_type": "markdown",
      "metadata": {
        "id": "yhdyvv48JFFd"
      },
      "source": [
        "3. Print the accuracy on the training partition?  (2 marks)\n"
      ]
    },
    {
      "cell_type": "code",
      "metadata": {
        "id": "WeQ9cOluRrL2",
        "colab": {
          "base_uri": "https://localhost:8080/"
        },
        "outputId": "bc55ea15-a2e6-4052-88a1-7b256c5c5601"
      },
      "source": [
        "training_pred = dt.predict(X_train)\n",
        "acc_training = accuracy_score(training_pred, y_train)\n",
        "print(\"Accuracy on Training partition:\",acc_training)"
      ],
      "execution_count": null,
      "outputs": [
        {
          "output_type": "stream",
          "text": [
            "Accuracy on Training partition: 1.0\n"
          ],
          "name": "stdout"
        }
      ]
    },
    {
      "cell_type": "markdown",
      "metadata": {
        "id": "_aH9TPFSJGv_"
      },
      "source": [
        "4. Print the accuracy on the test partition? (2 marks)\n"
      ]
    },
    {
      "cell_type": "code",
      "metadata": {
        "id": "U4eEWJCvRwSn",
        "colab": {
          "base_uri": "https://localhost:8080/"
        },
        "outputId": "17831d1f-5c42-4b06-cead-8ecf8a189856"
      },
      "source": [
        "acc_testing = accuracy_score(y_pred, y_test)\n",
        "print(\"Accuracy on Testing partition:\",acc_testing)"
      ],
      "execution_count": null,
      "outputs": [
        {
          "output_type": "stream",
          "text": [
            "Accuracy on Testing partition: 0.9987694831829368\n"
          ],
          "name": "stdout"
        }
      ]
    },
    {
      "cell_type": "markdown",
      "metadata": {
        "id": "_cWbOP-3JIE0"
      },
      "source": [
        "5. Show the classification tree and save it (5 marks)\n"
      ]
    },
    {
      "cell_type": "code",
      "metadata": {
        "id": "LRuYQCeNR1Dn",
        "colab": {
          "base_uri": "https://localhost:8080/",
          "height": 683
        },
        "outputId": "cd421443-4d18-419b-fa9a-b7585957cdf6"
      },
      "source": [
        "from sklearn import tree\n",
        "plt.figure(figsize=(12,12))\n",
        "classList = list(map(str,dt.classes_.tolist()))\n",
        "tree = tree.plot_tree(dt, class_names=classList, filled=True)\n",
        "plt.show()"
      ],
      "execution_count": null,
      "outputs": [
        {
          "output_type": "display_data",
          "data": {
            "image/png": "[encoded data removed]",
            "text/plain": [
              "<Figure size 864x864 with 1 Axes>"
            ]
          },
          "metadata": {
            "tags": [],
            "needs_background": "light"
          }
        }
      ]
    },
    {
      "cell_type": "markdown",
      "metadata": {
        "id": "a3fM0HMSJJl8"
      },
      "source": [
        "6. Find and print the top three most important features in your decision tree for determining toxicity. (4 marks)"
      ]
    },
    {
      "cell_type": "code",
      "metadata": {
        "id": "qTkc8ga1R6kd",
        "colab": {
          "base_uri": "https://localhost:8080/"
        },
        "outputId": "e77a5e8c-0f59-41fa-afc9-1cfe88bcc066"
      },
      "source": [
        "importance = pd.DataFrame(zip(X_train.columns, dt.feature_importances_))\n",
        "importance = importance.rename(columns={0: \"Column\", 1: \"Importance\"})\n",
        "importance = importance.sort_values(by=[\"Importance\"], ascending=False)\n",
        "print(importance[0:3])"
      ],
      "execution_count": null,
      "outputs": [
        {
          "output_type": "stream",
          "text": [
            "          Column  Importance\n",
            "27        odor_n    0.527899\n",
            "21     bruises_t    0.212695\n",
            "53  stalk-root_c    0.067373\n"
          ],
          "name": "stdout"
        }
      ]
    },
    {
      "cell_type": "markdown",
      "metadata": {
        "id": "uye7JohHJQmN"
      },
      "source": [
        "7. Classify the following mushroom. (6 marks)\n",
        "\n",
        "class\n",
        " : **?**\n",
        "\n",
        "cap-shape\n",
        ": **x**\n",
        "\n",
        "cap-surface\n",
        ": **s**\n",
        "\n",
        "cap-color\n",
        ": **n**\n",
        "\n",
        "bruises\n",
        ": **t**\n",
        "\n",
        "odor\n",
        ": **y**\n",
        "\n",
        "gill-attachment\n",
        ": **f**\n",
        "\n",
        "gill-spacing\n",
        ": **c**\n",
        "\n",
        "gill-size\n",
        ": **n**\n",
        "\n",
        "gill-color\n",
        ": **k**\n",
        "\n",
        "stalk-shape\n",
        ": **e**\n",
        "\n",
        "stalk-root\n",
        ": **e**\n",
        "\n",
        "stalk-surface-above-ring\n",
        ": **s**\n",
        "\n",
        "stalk-surface-below-ring\n",
        ": **s**\n",
        "\n",
        "stalk-color-above-ring\n",
        ": **w**\n",
        "\n",
        "stalk-color-below-ring\n",
        ": **w**\n",
        "\n",
        "veil-type\n",
        ": **p**\n",
        "\n",
        "veil-color\n",
        ": **w**\n",
        "\n",
        "ring-number\n",
        ": **o**\n",
        "\n",
        "ring-type\n",
        ": **p**\n",
        "\n",
        "spore-print-color\n",
        ": **r**\n",
        "\n",
        "population\n",
        ": **s**\n",
        "\n",
        "habitat\n",
        ": **u**\n",
        "\n"
      ]
    },
    {
      "cell_type": "code",
      "metadata": {
        "id": "jaLW4bhtSGjh",
        "colab": {
          "base_uri": "https://localhost:8080/"
        },
        "outputId": "1cf19c57-8c94-457d-bf89-fa65b3ee9eab"
      },
      "source": [
        "newMushroom = np.array([[0,0,0,0,0,1,0,0,1,0,0,0,0,0,1,0,0,0,0,0,0,1,0,0,0,0,0,0,0,0,1,0,1,1,0,0,1,0,0,0,0,1,0,0,0,0,0,0,1,0,0,0,0,1,0,0,0,1,0,0,0,1,0,0,0,0,0,0,0,0,1,0,0,0,0,0,0,0,0,1,0,1,0,0,0,1,0,0,1,0,0,0,0,0,1,0,0,0,0,0,1,0,0,0,0,0,0,1,0,0,0,0,0,0,0,1,0]])\n",
        "newPred = dt.predict(newMushroom)\n",
        "print(\"The classification is\", newPred)\n",
        "\n"
      ],
      "execution_count": null,
      "outputs": [
        {
          "output_type": "stream",
          "text": [
            "The classification is ['e']\n"
          ],
          "name": "stdout"
        }
      ]
    }
  ]
}